{
 "cells": [
  {
   "cell_type": "code",
   "execution_count": 2,
   "metadata": {},
   "outputs": [],
   "source": [
    "import torch\n",
    "import os\n",
    "import matplotlib.pyplot as plt \n",
    "import time\n",
    "from torch.utils.data import DataLoader, Dataset\n",
    "import torchvision.transforms as transforms\n",
    "from tqdm.notebook import tqdm\n",
    "from model import VGG,CNN\n",
    "import torch.nn as nn\n",
    "import numpy as np\n",
    "import random\n",
    "import cv2\n",
    "from util import get_file_list,imgDataset,detect_face\n",
    "import pandas as pd\n",
    "import matplotlib.pyplot as plt \n",
    "import copy\n",
    "import pickle\n",
    "\n",
    "embedding_size=4096\n",
    "batch_size=16\n",
    "\n",
    "result_path='./result'\n",
    "model_path=os.path.join(result_path,'best_model.pth')\n",
    "record_path=os.path.join(result_path,'record.csv')\n",
    "vgg_face_2_training_face='./data/vggface2_train_face_notmask/'\n",
    "lfw_path='./data/lfw/'\n",
    "lfw_pair_train_file='./data/pairsDevTrain.txt'\n",
    "lfw_pair_test_file='./data/pairsDevTest.txt'\n",
    "lfw_pair_file='./data/pairs.txt'\n",
    "dirs=sorted(os.listdir(vgg_face_2_training_face))\n",
    "n_classes=len(dirs)\n",
    "\n"
   ]
  },
  {
   "cell_type": "code",
   "execution_count": null,
   "metadata": {},
   "outputs": [],
   "source": [
    "image_list,label_list=get_file_list(vgg_face_2_training_face)\n"
   ]
  },
  {
   "cell_type": "code",
   "execution_count": 4,
   "metadata": {},
   "outputs": [
    {
     "data": {
      "text/plain": [
       "VGG(\n",
       "  (cnn): Sequential(\n",
       "    (0): Conv2d(3, 64, kernel_size=(3, 3), stride=(1, 1), padding=(1, 1))\n",
       "    (1): BatchNorm2d(64, eps=1e-05, momentum=0.1, affine=True, track_running_stats=True)\n",
       "    (2): ReLU()\n",
       "    (3): Conv2d(64, 64, kernel_size=(3, 3), stride=(1, 1), padding=(1, 1))\n",
       "    (4): BatchNorm2d(64, eps=1e-05, momentum=0.1, affine=True, track_running_stats=True)\n",
       "    (5): ReLU()\n",
       "    (6): MaxPool2d(kernel_size=2, stride=2, padding=0, dilation=1, ceil_mode=False)\n",
       "    (7): Conv2d(64, 128, kernel_size=(3, 3), stride=(1, 1), padding=(1, 1))\n",
       "    (8): BatchNorm2d(128, eps=1e-05, momentum=0.1, affine=True, track_running_stats=True)\n",
       "    (9): ReLU()\n",
       "    (10): Conv2d(128, 128, kernel_size=(3, 3), stride=(1, 1), padding=(1, 1))\n",
       "    (11): BatchNorm2d(128, eps=1e-05, momentum=0.1, affine=True, track_running_stats=True)\n",
       "    (12): ReLU()\n",
       "    (13): MaxPool2d(kernel_size=2, stride=2, padding=0, dilation=1, ceil_mode=False)\n",
       "    (14): Conv2d(128, 256, kernel_size=(3, 3), stride=(1, 1), padding=(1, 1))\n",
       "    (15): BatchNorm2d(256, eps=1e-05, momentum=0.1, affine=True, track_running_stats=True)\n",
       "    (16): ReLU()\n",
       "    (17): Conv2d(256, 256, kernel_size=(3, 3), stride=(1, 1), padding=(1, 1))\n",
       "    (18): BatchNorm2d(256, eps=1e-05, momentum=0.1, affine=True, track_running_stats=True)\n",
       "    (19): ReLU()\n",
       "    (20): Conv2d(256, 256, kernel_size=(3, 3), stride=(1, 1), padding=(1, 1))\n",
       "    (21): BatchNorm2d(256, eps=1e-05, momentum=0.1, affine=True, track_running_stats=True)\n",
       "    (22): ReLU()\n",
       "    (23): MaxPool2d(kernel_size=2, stride=2, padding=0, dilation=1, ceil_mode=False)\n",
       "    (24): Conv2d(256, 512, kernel_size=(3, 3), stride=(1, 1), padding=(1, 1))\n",
       "    (25): BatchNorm2d(512, eps=1e-05, momentum=0.1, affine=True, track_running_stats=True)\n",
       "    (26): ReLU()\n",
       "    (27): Conv2d(512, 512, kernel_size=(3, 3), stride=(1, 1), padding=(1, 1))\n",
       "    (28): BatchNorm2d(512, eps=1e-05, momentum=0.1, affine=True, track_running_stats=True)\n",
       "    (29): ReLU()\n",
       "    (30): Conv2d(512, 512, kernel_size=(3, 3), stride=(1, 1), padding=(1, 1))\n",
       "    (31): BatchNorm2d(512, eps=1e-05, momentum=0.1, affine=True, track_running_stats=True)\n",
       "    (32): ReLU()\n",
       "    (33): MaxPool2d(kernel_size=2, stride=2, padding=0, dilation=1, ceil_mode=False)\n",
       "    (34): Conv2d(512, 512, kernel_size=(3, 3), stride=(1, 1), padding=(1, 1))\n",
       "    (35): BatchNorm2d(512, eps=1e-05, momentum=0.1, affine=True, track_running_stats=True)\n",
       "    (36): ReLU()\n",
       "    (37): Conv2d(512, 512, kernel_size=(3, 3), stride=(1, 1), padding=(1, 1))\n",
       "    (38): BatchNorm2d(512, eps=1e-05, momentum=0.1, affine=True, track_running_stats=True)\n",
       "    (39): ReLU()\n",
       "    (40): Conv2d(512, 512, kernel_size=(3, 3), stride=(1, 1), padding=(1, 1))\n",
       "    (41): BatchNorm2d(512, eps=1e-05, momentum=0.1, affine=True, track_running_stats=True)\n",
       "    (42): ReLU()\n",
       "    (43): MaxPool2d(kernel_size=2, stride=2, padding=0, dilation=1, ceil_mode=False)\n",
       "  )\n",
       "  (fc): Sequential(\n",
       "    (0): Linear(in_features=25088, out_features=4096, bias=True)\n",
       "    (1): Dropout(p=0.5, inplace=False)\n",
       "    (2): ReLU()\n",
       "    (3): Linear(in_features=4096, out_features=4096, bias=True)\n",
       "    (4): Dropout(p=0.5, inplace=False)\n",
       "    (5): ReLU()\n",
       "  )\n",
       ")"
      ]
     },
     "execution_count": 4,
     "metadata": {},
     "output_type": "execute_result"
    }
   ],
   "source": [
    "classifier=CNN(embedding_size,n_classes)\n",
    "classifier.load_state_dict(torch.load(model_path))\n",
    "featureNet=classifier.backbone\n",
    "featureNet.eval()\n"
   ]
  },
  {
   "cell_type": "code",
   "execution_count": null,
   "metadata": {},
   "outputs": [],
   "source": [
    "evaluate_transform = transforms.Compose([\n",
    "    transforms.ToPILImage(),\n",
    "    transforms.ToTensor(), # 將圖片轉成 Tensor，並把數值 normalize 到 [0,1] (data normalization)\n",
    "    transforms.Normalize((0.5,0.5,0.5),(0.5,0.5,0.5))\n",
    "])\n",
    "\n",
    "vgg_face_2=imgDataset(file_list=image_list,label_list=label_list,transform=evaluate_transform,image_size=(224,224))\n",
    "evaluate_dataloader = DataLoader(vgg_face_2, batch_size=batch_size)\n"
   ]
  },
  {
   "cell_type": "code",
   "execution_count": null,
   "metadata": {},
   "outputs": [],
   "source": [
    "total_acc=0\n",
    "classifier=classifier.cuda()\n",
    "with torch.no_grad():\n",
    "    pbar=tqdm(evaluate_dataloader)\n",
    "    for batch in pbar:\n",
    "        batch_X,batch_y=batch\n",
    "        batch_X=batch_X.cuda()\n",
    "        batch_y=batch_y.cuda()\n",
    "        val_pred = classifier(batch_X.cuda())\n",
    "        batch_acc=np.sum(np.argmax(val_pred.cpu().data.numpy(), axis=1) == batch_y.cpu().numpy())/(batch_size)\n",
    "        total_acc+=batch_acc\n",
    "        pbar.set_description(\"Evaluate\")\n",
    "        pbar.set_postfix(acc=batch_acc)\n",
    "        pbar.update()\n",
    "\n",
    "eval_acc=total_acc/len(evaluate_dataloader)\n",
    "print('Evaluate accuracy:{}'.format(eval_acc))\n"
   ]
  },
  {
   "cell_type": "code",
   "execution_count": 12,
   "metadata": {},
   "outputs": [
    {
     "data": {
      "image/png": "[encoded data removed]",
      "text/plain": [
       "<Figure size 720x720 with 1 Axes>"
      ]
     },
     "metadata": {
      "needs_background": "light"
     },
     "output_type": "display_data"
    }
   ],
   "source": [
    "training_record=pd.read_csv(record_path)\n",
    "plt.figure(figsize=(10,10))\n",
    "plt.plot(training_record['epoch'].to_list(),training_record['train_loss'].to_list(),label='train_loss')\n",
    "plt.plot(training_record['epoch'].to_list(),training_record['valid_loss'].to_list(),'r--',label='valid_loss')\n",
    "plt.legend()\n",
    "plt.xlabel('Epoch')\n",
    "plt.ylabel('Loss')\n",
    "plt.yticks([i/2 for i in range(20)])\n",
    "plt.grid()\n",
    "plt.show()"
   ]
  },
  {
   "cell_type": "code",
   "execution_count": 13,
   "metadata": {
    "scrolled": true
   },
   "outputs": [
    {
     "data": {
      "image/png": "[encoded data removed]",
      "text/plain": [
       "<Figure size 576x576 with 1 Axes>"
      ]
     },
     "metadata": {
      "needs_background": "light"
     },
     "output_type": "display_data"
    }
   ],
   "source": [
    "plt.figure(figsize=(8,8))\n",
    "plt.plot(training_record['epoch'].to_list(),training_record['train_acc'].to_list(),label='train accuracy')\n",
    "plt.plot(training_record['epoch'].to_list(),training_record['valid_acc'].to_list(),'r--',label='valid accuracy')\n",
    "plt.legend()\n",
    "plt.xlabel('Epoch')\n",
    "plt.ylabel('Accuracy')\n",
    "plt.ylim(0.5,1)\n",
    "plt.yticks([0.5,0.6,0.7,0.8,0.9,0.92,0.95,1.0])\n",
    "\n",
    "plt.grid()\n",
    "plt.show()"
   ]
  },
  {
   "cell_type": "code",
   "execution_count": 5,
   "metadata": {
    "scrolled": true
   },
   "outputs": [],
   "source": [
    "face_cascade = cv2.CascadeClassifier('haarcascade_frontalface_default.xml')\n"
   ]
  },
  {
   "cell_type": "code",
   "execution_count": 6,
   "metadata": {},
   "outputs": [],
   "source": [
    "lfw_file_list,_=get_file_list(lfw_path)\n",
    "lfw_file_idx={}\n",
    "for i,file_path in enumerate(lfw_file_list):\n",
    "    lfw_file_idx[file_path]=i\n"
   ]
  },
  {
   "cell_type": "code",
   "execution_count": 7,
   "metadata": {},
   "outputs": [
    {
     "data": {
      "application/vnd.jupyter.widget-view+json": {
       "model_id": "bc50fccc4cc0483398518bae2abf8836",
       "version_major": 2,
       "version_minor": 0
      },
      "text/plain": [
       "HBox(children=(IntProgress(value=0, max=13233), HTML(value='')))"
      ]
     },
     "metadata": {},
     "output_type": "display_data"
    },
    {
     "name": "stdout",
     "output_type": "stream",
     "text": [
      "\n"
     ]
    }
   ],
   "source": [
    "def read_lfw(lfw_file_list,detector,img_size):\n",
    "    result=[]\n",
    "    error_path=[]\n",
    "    pbar=tqdm(lfw_file_list)\n",
    "    for file_path in pbar:\n",
    "        img=cv2.imread(file_path)\n",
    "        face,_=detect_face(img,detector)\n",
    "        if face is img:\n",
    "            error_path.append(file_path)\n",
    "        face=cv2.resize(face,img_size)\n",
    "        result.append(face)\n",
    "    return result,error_path\n",
    "\n",
    "lfw_faces,error_path=read_lfw(lfw_file_list,face_cascade,(224,224))"
   ]
  },
  {
   "cell_type": "code",
   "execution_count": 8,
   "metadata": {},
   "outputs": [],
   "source": [
    "evaluate_transform = transforms.Compose([\n",
    "    transforms.ToPILImage(),\n",
    "    transforms.ToTensor(), # 將圖片轉成 Tensor，並把數值 normalize 到 [0,1] (data normalization)\n",
    "    transforms.Normalize((0.5,0.5,0.5),(0.5,0.5,0.5))\n",
    "])\n",
    "class faceData(Dataset):\n",
    "    def __init__(self,face_data,transform):\n",
    "        self.data=face_data\n",
    "        self.transform=transform\n",
    "        \n",
    "    def __len__(self):\n",
    "        return len(self.data)\n",
    "\n",
    "    def __getitem__(self,idx):\n",
    "        return self.transform(self.data[idx])\n",
    "\n",
    "lfw_data=faceData(lfw_faces,evaluate_transform)\n",
    "lfw_dataloader = DataLoader(lfw_data, batch_size=batch_size)"
   ]
  },
  {
   "cell_type": "code",
   "execution_count": 9,
   "metadata": {},
   "outputs": [
    {
     "data": {
      "application/vnd.jupyter.widget-view+json": {
       "model_id": "7538156cf3864fee90b79c222ed8a714",
       "version_major": 2,
       "version_minor": 0
      },
      "text/plain": [
       "HBox(children=(IntProgress(value=0, max=828), HTML(value='')))"
      ]
     },
     "metadata": {},
     "output_type": "display_data"
    },
    {
     "name": "stdout",
     "output_type": "stream",
     "text": [
      "\n"
     ]
    }
   ],
   "source": [
    "featureNet.eval()\n",
    "featureNet=featureNet.cuda()\n",
    "faceFeatures=[]\n",
    "with torch.no_grad():\n",
    "    pbar=tqdm(lfw_dataloader)\n",
    "    for batch in pbar:\n",
    "        batch=batch.cuda()\n",
    "        result=featureNet(batch)\n",
    "        faceFeatures.append(torch.nn.functional.normalize(result))\n",
    "faceFeatures=torch.cat(faceFeatures)"
   ]
  },
  {
   "cell_type": "code",
   "execution_count": 10,
   "metadata": {},
   "outputs": [],
   "source": [
    "def get_lfw_pair(lfw_path,pair_file_path):\n",
    "    pair_file=open(pair_file_path,'r')\n",
    "    data=pair_file.readline().replace('\\n','').split('\\t')\n",
    "    fold_num=int(data[0])\n",
    "    same_pair_num=int(data[1])\n",
    "    same_pair=[]\n",
    "    different_pair=[]\n",
    "    for _ in range(fold_num):\n",
    "        for _ in range(same_pair_num):\n",
    "            line=pair_file.readline()\n",
    "            line=line.replace('\\n','')\n",
    "            line=line.split('\\t')\n",
    "            path_1=os.path.join(lfw_path,line[0])\n",
    "            path_2=os.path.join(lfw_path,line[0])\n",
    "            path_1=os.path.join(path_1,'%s_%04d.jpg'%(line[0],int(line[1])))\n",
    "            path_2=os.path.join(path_2,'%s_%04d.jpg'%(line[0],int(line[2])))\n",
    "            same_pair.append([path_1,path_2])\n",
    "        for _ in range(same_pair_num):\n",
    "            line=pair_file.readline()\n",
    "            line=line.replace('\\n','')\n",
    "            line=line.split('\\t')\n",
    "            path_1=os.path.join(lfw_path,line[0])\n",
    "            path_2=os.path.join(lfw_path,line[2])\n",
    "            path_1=os.path.join(path_1,'%s_%04d.jpg'%(line[0],int(line[1])))\n",
    "            path_2=os.path.join(path_2,'%s_%04d.jpg'%(line[2],int(line[3])))\n",
    "            different_pair.append([path_1,path_2]) \n",
    "    pair_file.close()\n",
    "    return same_pair,different_pair\n",
    "\n",
    "same_pair,different_pair=get_lfw_pair(lfw_path=lfw_path,pair_file_path=lfw_pair_file)"
   ]
  },
  {
   "cell_type": "code",
   "execution_count": 11,
   "metadata": {},
   "outputs": [],
   "source": [
    "same_pair_dist=[]\n",
    "pdist = nn.PairwiseDistance(p=2)\n",
    "for file_pair in same_pair:\n",
    "    idx1=lfw_file_idx[file_pair[0]]\n",
    "    idx2=lfw_file_idx[file_pair[1]]\n",
    "    data_1=torch.unsqueeze(faceFeatures[idx1],0)\n",
    "    data_2=torch.unsqueeze(faceFeatures[idx2],0)\n",
    "    same_pair_dist.append(pdist(data_1,data_2).item())\n",
    "\n",
    "different_pair_dist=[]\n",
    "for file_pair in different_pair:\n",
    "    idx1=lfw_file_idx[file_pair[0]]\n",
    "    idx2=lfw_file_idx[file_pair[1]]\n",
    "    data_1=torch.unsqueeze(faceFeatures[idx1],0)\n",
    "    data_2=torch.unsqueeze(faceFeatures[idx2],0)\n",
    "    different_pair_dist.append(pdist(data_1,data_2).item())\n",
    "\n",
    "\n",
    "    "
   ]
  },
  {
   "cell_type": "code",
   "execution_count": 7,
   "metadata": {},
   "outputs": [
    {
     "name": "stdout",
     "output_type": "stream",
     "text": [
      "accuracy:0.8103333333333333\n",
      "precision:0.8074636723910172\n",
      "recall:0.815\n",
      "f1 score:0.8112143331121433\n"
     ]
    },
    {
     "data": {
      "text/html": [
       "<div>\n",
       "<style scoped>\n",
       "    .dataframe tbody tr th:only-of-type {\n",
       "        vertical-align: middle;\n",
       "    }\n",
       "\n",
       "    .dataframe tbody tr th {\n",
       "        vertical-align: top;\n",
       "    }\n",
       "\n",
       "    .dataframe thead th {\n",
       "        text-align: right;\n",
       "    }\n",
       "</style>\n",
       "<table border=\"1\" class=\"dataframe\">\n",
       "  <thead>\n",
       "    <tr style=\"text-align: right;\">\n",
       "      <th></th>\n",
       "      <th>target(1)</th>\n",
       "      <th>target(0)</th>\n",
       "    </tr>\n",
       "  </thead>\n",
       "  <tbody>\n",
       "    <tr>\n",
       "      <th>predict(1)</th>\n",
       "      <td>0.815</td>\n",
       "      <td>0.194333</td>\n",
       "    </tr>\n",
       "    <tr>\n",
       "      <th>predict(0)</th>\n",
       "      <td>0.185</td>\n",
       "      <td>0.805667</td>\n",
       "    </tr>\n",
       "  </tbody>\n",
       "</table>\n",
       "</div>"
      ],
      "text/plain": [
       "            target(1)  target(0)\n",
       "predict(1)      0.815   0.194333\n",
       "predict(0)      0.185   0.805667"
      ]
     },
     "execution_count": 7,
     "metadata": {},
     "output_type": "execute_result"
    }
   ],
   "source": [
    "threshold=1.25\n",
    "\n",
    "\n",
    "TP=0\n",
    "TN=0\n",
    "for data in same_pair_dist:\n",
    "    if data<threshold:\n",
    "        TP+=1\n",
    "\n",
    "for data in different_pair_dist:\n",
    "    if data>threshold:\n",
    "        TN+=1\n",
    "\n",
    "TP=TP/len(same_pair_dist)\n",
    "TN=TN/len(different_pair_dist)\n",
    "FN=1-TP\n",
    "FP=1-TN\n",
    "\n",
    "conf_mtrx_df=pd.DataFrame([[TP,FP],[FN,TN]])\n",
    "print('accuracy:{}'.format((TP+TN)/(TP+FP+FN+TN)))\n",
    "precision=TP/(TP+FP)\n",
    "recall=TP/(TP+FN)\n",
    "print('precision:{}'.format(precision))\n",
    "print('recall:{}'.format(recall))\n",
    "print('f1 score:{}'.format(2*precision*recall/(precision+recall)))\n",
    "\n",
    "\n",
    "\n",
    "conf_mtrx_df.rename(columns={0: 'target(1)',1: 'target(0)'}, index={0: 'predict(1)',1: 'predict(0)'})\n"
   ]
  },
  {
   "cell_type": "code",
   "execution_count": 13,
   "metadata": {},
   "outputs": [],
   "source": [
    "with open('lfw_same_result.pkl', 'wb') as f:\n",
    "    pickle.dump(same_pair_dist, f)\n",
    "with open('lfw_different_result.pkl', 'wb') as f:\n",
    "    pickle.dump(different_pair_dist, f)"
   ]
  },
  {
   "cell_type": "code",
   "execution_count": null,
   "metadata": {},
   "outputs": [],
   "source": []
  }
 ],
 "metadata": {
  "kernelspec": {
   "display_name": "Python 3",
   "language": "python",
   "name": "python3"
  },
  "language_info": {
   "codemirror_mode": {
    "name": "ipython",
    "version": 3
   },
   "file_extension": ".py",
   "mimetype": "text/x-python",
   "name": "python",
   "nbconvert_exporter": "python",
   "pygments_lexer": "ipython3",
   "version": "3.6.6"
  }
 },
 "nbformat": 4,
 "nbformat_minor": 2
}
